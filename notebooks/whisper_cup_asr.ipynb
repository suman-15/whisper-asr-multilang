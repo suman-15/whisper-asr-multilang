{
 "cells": [
  {
   "cell_type": "code",
   "execution_count": 1,
   "id": "d0b87762",
   "metadata": {},
   "outputs": [],
   "source": [
    "from pathlib import Path\n",
    "\n",
    "# Root of your CUP demo dataset\n",
    "ROOT_DIR = r\"C:\\Users\\manmo\\OneDrive\\Desktop\\Cup demo dataset\"\n",
    "OUTPUT_TSV = (\n",
    "    r\"C:\\Users\\manmo\\OneDrive\\Desktop\\Cup demo dataset\\whisper_large_v3_eval.tsv\"\n",
    ")\n",
    "LANG_SUM_TSV = r\"C:\\Users\\manmo\\OneDrive\\Desktop\\Cup demo dataset\\whisper_large_v3_language_summary.tsv\"\n",
    "\n",
    "# Model + decoding settings\n",
    "MODEL_NAME = \"openai/whisper-large-v3\"\n",
    "TARGET_SR = 16000\n",
    "TASK = \"transcribe\"  # keep \"transcribe\"\n",
    "MAX_NEW_TOKENS = 256  # raise if you truly have long clips\n",
    "\n",
    "# Dataset subfolders to process (must match your folder names under ROOT_DIR)\n",
    "LANG_FOLDERS = [\"chinese\", \"pashto\", \"urdu\"]\n",
    "\n",
    "# Map dataset folder name -> Whisper language prompt\n",
    "LANG_PROMPT = {\n",
    "    \"chinese\": \"chinese\",\n",
    "    \"pashto\": \"pashto\",\n",
    "    \"urdu\": \"urdu\",\n",
    "}\n",
    "\n",
    "# Name of TSV file inside each language folder (we’ll accept either)\n",
    "TSV_CANDIDATES = [\"validated.tsv\", \"validation.tsv\"]\n",
    "\n",
    "# Subfolder name that contains the audio files\n",
    "CLIPS_SUBDIR = \"clips\"\n"
   ]
  },
  {
   "cell_type": "code",
   "execution_count": null,
   "id": "5e9444b0",
   "metadata": {},
   "outputs": [],
   "source": [
    "import os, math, warnings\n",
    "from typing import Dict, Any, List\n",
    "import pandas as pd\n",
    "import torch, torchaudio\n",
    "from tqdm import tqdm\n",
    "\n",
    "from transformers import WhisperProcessor, WhisperForConditionalGeneration\n",
    "\n",
    "# jiwer v4 API:\n",
    "from jiwer import process_words, process_characters\n",
    "\n",
    "warnings.filterwarnings(\"ignore\", category=UserWarning)  # quiet noisy warnings\n",
    "\n",
    "\n",
    "def load_model_and_processor(model_name: str):\n",
    "    \"\"\"\n",
    "    Load Whisper model & processor.\n",
    "    Use float16 on GPU; float32 on CPU. We'll cast inputs to model.dtype.\n",
    "    \"\"\"\n",
    "    device = \"cuda\" if torch.cuda.is_available() else \"cpu\"\n",
    "    dtype = torch.float16 if device == \"cuda\" else torch.float32\n",
    "\n",
    "    processor = WhisperProcessor.from_pretrained(model_name)\n",
    "    model = WhisperForConditionalGeneration.from_pretrained(\n",
    "        model_name, torch_dtype=dtype\n",
    "    )\n",
    "    model.to(device)\n",
    "    model.eval()\n",
    "    return processor, model, device\n",
    "\n",
    "\n",
    "def _to_mono(waveform: torch.Tensor) -> torch.Tensor:\n",
    "    # waveform: (channels, n) or (n,)\n",
    "    if waveform.ndim == 2:\n",
    "        if waveform.size(0) > 1:\n",
    "            waveform = waveform.mean(dim=0)\n",
    "        else:\n",
    "            waveform = waveform.squeeze(0)\n",
    "    return waveform\n",
    "\n",
    "\n",
    "def _resample_if_needed(\n",
    "    waveform: torch.Tensor, sr: int, target_sr: int\n",
    ") -> torch.Tensor:\n",
    "    if sr == target_sr:\n",
    "        return waveform\n",
    "    return torchaudio.transforms.Resample(orig_freq=sr, new_freq=target_sr)(waveform)\n",
    "\n",
    "\n",
    "def load_audio_full(path: Path, target_sr: int = 16000) -> torch.Tensor:\n",
    "    \"\"\"\n",
    "    Load FULL clip (no chunking), convert to mono, resample to target_sr, float32.\n",
    "    Returns (num_samples,) tensor.\n",
    "    \"\"\"\n",
    "    waveform, sr = torchaudio.load(str(path))\n",
    "    waveform = _to_mono(waveform)\n",
    "    waveform = _resample_if_needed(waveform, sr, target_sr).contiguous()\n",
    "    if waveform.dtype != torch.float32:\n",
    "        waveform = waveform.to(torch.float32)\n",
    "    return waveform\n",
    "\n",
    "\n",
    "# ---------- Metrics helpers using jiwer v4 alignments ----------\n",
    "\n",
    "\n",
    "def _pr_from_counts(hits: int, subs: int, dels: int, ins: int) -> Dict[str, float]:\n",
    "    \"\"\"\n",
    "    precision = hits / (hits + substitutions + insertions)\n",
    "    recall    = hits / (hits + substitutions + deletions)\n",
    "    \"\"\"\n",
    "    predicted = hits + subs + ins\n",
    "    reference = hits + subs + dels\n",
    "    precision = (hits / predicted) if predicted > 0 else 0.0\n",
    "    recall = (hits / reference) if reference > 0 else 0.0\n",
    "    return {\"precision\": precision, \"recall\": recall}\n",
    "\n",
    "\n",
    "def word_metrics(ref: str, hyp: str) -> Dict[str, float]:\n",
    "    \"\"\"\n",
    "    Compute per-utterance word-level metrics using jiwer.process_words (v4).\n",
    "    WER = (S + D + I) / (S + D + H)    where H=subs? no, H=hits.\n",
    "    \"\"\"\n",
    "    w = process_words(ref, hyp)  # alignment object with counts\n",
    "    hits = int(w.hits)\n",
    "    subs = int(w.substitutions)\n",
    "    dels = int(w.deletions)\n",
    "    ins = int(w.insertions)\n",
    "\n",
    "    ref_len = hits + subs + dels\n",
    "    wer_val = (subs + dels + ins) / ref_len if ref_len > 0 else 0.0\n",
    "    pr = _pr_from_counts(hits, subs, dels, ins)\n",
    "\n",
    "    return {\n",
    "        \"wer\": wer_val,\n",
    "        \"precision\": pr[\"precision\"],\n",
    "        \"recall\": pr[\"recall\"],\n",
    "        \"counts\": {\"hits\": hits, \"subs\": subs, \"dels\": dels, \"ins\": ins},\n",
    "    }\n",
    "\n",
    "\n",
    "def char_cer(ref: str, hyp: str) -> float:\n",
    "    \"\"\"\n",
    "    Compute character error rate using jiwer.process_characters (v4).\n",
    "    CER = (S + D + I) / (S + D + H)\n",
    "    \"\"\"\n",
    "    c = process_characters(ref, hyp)\n",
    "    hits = int(c.hits)\n",
    "    subs = int(c.substitutions)\n",
    "    dels = int(c.deletions)\n",
    "    ins = int(c.insertions)\n",
    "    ref_len = hits + subs + dels\n",
    "    return (subs + dels + ins) / ref_len if ref_len > 0 else 0.0\n",
    "\n",
    "\n",
    "def aggregate_word_counts(pairs: List[Dict[str, int]]) -> Dict[str, int]:\n",
    "    \"\"\"\n",
    "    Sum a list of word-count dicts {'hits','subs','dels','ins'}.\n",
    "    \"\"\"\n",
    "    H = S = D = I = 0\n",
    "    for d in pairs:\n",
    "        H += d[\"hits\"]\n",
    "        S += d[\"subs\"]\n",
    "        D += d[\"dels\"]\n",
    "        I += d[\"ins\"]\n",
    "    return {\"hits\": H, \"subs\": S, \"dels\": D, \"ins\": I}\n",
    "\n",
    "\n",
    "def overall_word_metrics(refs: List[str], hyps: List[str]) -> Dict[str, float]:\n",
    "    \"\"\"\n",
    "    Global word-level metrics by summing alignment counts over all pairs.\n",
    "    This matches standard pooled WER/precision/recall.\n",
    "    \"\"\"\n",
    "    counts_list = []\n",
    "    for r, h in zip(refs, hyps):\n",
    "        w = process_words(r, h)\n",
    "        counts_list.append(\n",
    "            {\n",
    "                \"hits\": int(w.hits),\n",
    "                \"subs\": int(w.substitutions),\n",
    "                \"dels\": int(w.deletions),\n",
    "                \"ins\": int(w.insertions),\n",
    "            }\n",
    "        )\n",
    "    agg = aggregate_word_counts(counts_list)\n",
    "    H, S, D, I = agg[\"hits\"], agg[\"subs\"], agg[\"dels\"], agg[\"ins\"]\n",
    "    ref_len = H + S + D\n",
    "    wer_val = (S + D + I) / ref_len if ref_len > 0 else 0.0\n",
    "    pr = _pr_from_counts(H, S, D, I)\n",
    "    return {\"wer\": wer_val, \"precision\": pr[\"precision\"], \"recall\": pr[\"recall\"]}\n",
    "\n",
    "\n",
    "def overall_char_cer(refs: List[str], hyps: List[str]) -> float:\n",
    "    \"\"\"\n",
    "    Global character error rate by summing character-level counts.\n",
    "    \"\"\"\n",
    "    H = S = D = I = 0\n",
    "    for r, h in zip(refs, hyps):\n",
    "        c = process_characters(r, h)\n",
    "        H += int(c.hits)\n",
    "        S += int(c.substitutions)\n",
    "        D += int(c.deletions)\n",
    "        I += int(c.insertions)\n",
    "    ref_len = H + S + D\n",
    "    return (S + D + I) / ref_len if ref_len > 0 else 0.0\n",
    "\n",
    "\n",
    "# ---------- Decoding helpers ----------\n",
    "\n",
    "\n",
    "def decode_clip(\n",
    "    waveform: torch.Tensor,\n",
    "    processor: WhisperProcessor,\n",
    "    model: WhisperForConditionalGeneration,\n",
    "    device: str,\n",
    "    language: str,\n",
    ") -> str:\n",
    "    \"\"\"\n",
    "    Run Whisper generation on the FULL clip (no chunking).\n",
    "    \"\"\"\n",
    "    with torch.no_grad():\n",
    "        inputs = processor(\n",
    "            waveform.numpy(),  # WhisperProcessor expects numpy audio\n",
    "            sampling_rate=TARGET_SR,\n",
    "            return_tensors=\"pt\",\n",
    "            padding=True,\n",
    "        )\n",
    "        # Cast inputs to model dtype (fp16 on GPU, fp32 on CPU)\n",
    "        input_features = inputs.input_features.to(device=device, dtype=model.dtype)\n",
    "        attention_mask = inputs.get(\"attention_mask\")\n",
    "        attention_mask = (\n",
    "            attention_mask.to(device) if attention_mask is not None else None\n",
    "        )\n",
    "\n",
    "        forced_ids = processor.get_decoder_prompt_ids(language=language, task=TASK)\n",
    "        pred_ids = model.generate(\n",
    "            input_features=input_features,\n",
    "            attention_mask=attention_mask,\n",
    "            forced_decoder_ids=forced_ids,\n",
    "            max_new_tokens=MAX_NEW_TOKENS,\n",
    "        )\n",
    "        text = processor.batch_decode(pred_ids, skip_special_tokens=True)[0]\n",
    "        return text.strip()\n",
    "\n",
    "\n",
    "def evaluate_language_folder(\n",
    "    lang_folder: Path,\n",
    "    language_prompt: str,\n",
    "    processor: WhisperProcessor,\n",
    "    model: WhisperForConditionalGeneration,\n",
    "    device: str,\n",
    "    clips_subdir: str = \"clips\",\n",
    ") -> List[Dict[str, Any]]:\n",
    "    \"\"\"\n",
    "    Evaluate all rows in validated/validation.tsv under lang_folder.\n",
    "    Returns list of per-clip result dicts.\n",
    "    \"\"\"\n",
    "    # find TSV\n",
    "    tsv_path = None\n",
    "    for cand in TSV_CANDIDATES:\n",
    "        p = lang_folder / cand\n",
    "        if p.exists():\n",
    "            tsv_path = p\n",
    "            break\n",
    "    if tsv_path is None:\n",
    "        print(f\"[WARN] No validated.tsv/validation.tsv in {lang_folder}\")\n",
    "        return []\n",
    "\n",
    "    df = pd.read_csv(tsv_path, sep=\"\\t\", quoting=3, encoding=\"utf-8\")\n",
    "    if not {\"path\", \"sentence\"}.issubset(df.columns):\n",
    "        missing = {\"path\", \"sentence\"} - set(df.columns)\n",
    "        print(f\"[WARN] {tsv_path} missing columns: {missing}\")\n",
    "        return []\n",
    "\n",
    "    clips_dir = lang_folder / clips_subdir\n",
    "    if not clips_dir.exists():\n",
    "        print(f\"[WARN] Clips folder not found: {clips_dir}\")\n",
    "        return []\n",
    "\n",
    "    # keep rows whose audio exists\n",
    "    df[\"__fullpath__\"] = df[\"path\"].apply(lambda p: str(clips_dir / p))\n",
    "    df = df[df[\"__fullpath__\"].apply(os.path.exists)].reset_index(drop=True)\n",
    "    if len(df) == 0:\n",
    "        print(f\"[WARN] No audio files found for {lang_folder.name}\")\n",
    "        return []\n",
    "\n",
    "    results = []\n",
    "    print(\n",
    "        f\"\\n=== Processing language: {lang_folder.name} (prompt: {language_prompt}) | {len(df)} clips ===\"\n",
    "    )\n",
    "\n",
    "    for _, row in tqdm(df.iterrows(), total=len(df)):\n",
    "        fname = row[\"path\"]\n",
    "        ref = str(row[\"sentence\"])\n",
    "        full_audio = clips_dir / fname\n",
    "\n",
    "        try:\n",
    "            waveform = load_audio_full(full_audio, TARGET_SR)\n",
    "            hyp = decode_clip(waveform, processor, model, device, language_prompt)\n",
    "\n",
    "            # metrics via jiwer v4\n",
    "            wm = word_metrics(ref, hyp)\n",
    "            per_wer = wm[\"wer\"]\n",
    "            per_precision = wm[\"precision\"]\n",
    "            per_recall = wm[\"recall\"]\n",
    "            per_cer = char_cer(ref, hyp)\n",
    "\n",
    "            # per-clip print\n",
    "            print(f\"\\nClip: {fname}\")\n",
    "            print(f\"ASR: {hyp}\")\n",
    "            print(f\"REF: {ref}\")\n",
    "            print(\n",
    "                f\"WER: {per_wer:.4f}  CER: {per_cer:.4f}  Precision: {per_precision:.4f}  Recall: {per_recall:.4f}\"\n",
    "            )\n",
    "            print(\"-\" * 70)\n",
    "\n",
    "            results.append(\n",
    "                {\n",
    "                    \"language\": lang_folder.name,\n",
    "                    \"filename\": fname,\n",
    "                    \"reference\": ref,\n",
    "                    \"hypothesis\": hyp,\n",
    "                    \"wer\": per_wer,\n",
    "                    \"cer\": per_cer,\n",
    "                    \"precision\": per_precision,\n",
    "                    \"recall\": per_recall,\n",
    "                }\n",
    "            )\n",
    "\n",
    "        except Exception as e:\n",
    "            print(f\"\\n[ERROR] {fname}: {e}\")\n",
    "            results.append(\n",
    "                {\n",
    "                    \"language\": lang_folder.name,\n",
    "                    \"filename\": fname,\n",
    "                    \"reference\": ref,\n",
    "                    \"hypothesis\": \"\",\n",
    "                    \"wer\": float(\"nan\"),\n",
    "                    \"cer\": float(\"nan\"),\n",
    "                    \"precision\": float(\"nan\"),\n",
    "                    \"recall\": float(\"nan\"),\n",
    "                }\n",
    "            )\n",
    "\n",
    "    return results\n"
   ]
  },
  {
   "cell_type": "code",
   "execution_count": 3,
   "id": "499871b8",
   "metadata": {},
   "outputs": [
    {
     "name": "stdout",
     "output_type": "stream",
     "text": [
      "Loading model…\n",
      "Loaded openai/whisper-large-v3 on device: cuda\n"
     ]
    }
   ],
   "source": [
    "root = Path(ROOT_DIR)\n",
    "if not root.exists():\n",
    "    raise FileNotFoundError(f\"Root directory not found: {root}\")\n",
    "\n",
    "print(\"Loading model…\")\n",
    "processor, model, device = load_model_and_processor(MODEL_NAME)\n",
    "print(f\"Loaded {MODEL_NAME} on device: {device}\")\n"
   ]
  },
  {
   "cell_type": "code",
   "execution_count": 4,
   "id": "d4564436",
   "metadata": {},
   "outputs": [
    {
     "name": "stdout",
     "output_type": "stream",
     "text": [
      "\n",
      "=== Processing language: chinese (prompt: chinese) | 16 clips ===\n"
     ]
    },
    {
     "name": "stderr",
     "output_type": "stream",
     "text": [
      "  0%|          | 0/16 [00:00<?, ?it/s]The attention mask is not set and cannot be inferred from input because pad token is same as eos token. As a consequence, you may observe unexpected behavior. Please pass your input's `attention_mask` to obtain reliable results.\n",
      "  6%|▋         | 1/16 [00:00<00:11,  1.28it/s]"
     ]
    },
    {
     "name": "stdout",
     "output_type": "stream",
     "text": [
      "\n",
      "Clip: 38_5715_20170914193306.wav\n",
      "ASR: 口口音樂\n",
      "REF: 口口音乐\n",
      "WER: 1.0000  CER: 0.2500  Precision: 0.0000  Recall: 0.0000\n",
      "----------------------------------------------------------------------\n"
     ]
    },
    {
     "name": "stderr",
     "output_type": "stream",
     "text": [
      " 12%|█▎        | 2/16 [00:01<00:10,  1.34it/s]"
     ]
    },
    {
     "name": "stdout",
     "output_type": "stream",
     "text": [
      "\n",
      "Clip: 38_5716_20170914202211.wav\n",
      "ASR: 嗨天气还冷记得天衣保暖哦\n",
      "REF: 嗨天气寒冷记得添衣保暖哦\n",
      "WER: 1.0000  CER: 0.1667  Precision: 0.0000  Recall: 0.0000\n",
      "----------------------------------------------------------------------\n"
     ]
    },
    {
     "name": "stderr",
     "output_type": "stream",
     "text": [
      " 19%|█▉        | 3/16 [00:02<00:13,  1.06s/it]"
     ]
    },
    {
     "name": "stdout",
     "output_type": "stream",
     "text": [
      "\n",
      "Clip: 38_5716_20170914202228.wav\n",
      "ASR: 人的能耐再大大不过天这雨转又变了天了天要下雨娘要嫁人由她去吧\n",
      "REF: 人的能耐再大大不过天阵雨转阴又变了天了天要下雨娘要嫁人由她去吧\n",
      "WER: 1.0000  CER: 0.0645  Precision: 0.0000  Recall: 0.0000\n",
      "----------------------------------------------------------------------\n"
     ]
    },
    {
     "name": "stderr",
     "output_type": "stream",
     "text": [
      " 25%|██▌       | 4/16 [00:03<00:09,  1.21it/s]"
     ]
    },
    {
     "name": "stdout",
     "output_type": "stream",
     "text": [
      "\n",
      "Clip: 38_5716_20170914202312.wav\n",
      "ASR: 播放二胡独奏\n",
      "REF: 播放二胡独奏\n",
      "WER: 0.0000  CER: 0.0000  Precision: 1.0000  Recall: 1.0000\n",
      "----------------------------------------------------------------------\n"
     ]
    },
    {
     "name": "stderr",
     "output_type": "stream",
     "text": [
      " 31%|███▏      | 5/16 [00:03<00:07,  1.50it/s]"
     ]
    },
    {
     "name": "stdout",
     "output_type": "stream",
     "text": [
      "\n",
      "Clip: 38_5716_20170914202319.wav\n",
      "ASR: 可是刮风了\n",
      "REF: 可是刮风了\n",
      "WER: 0.0000  CER: 0.0000  Precision: 1.0000  Recall: 1.0000\n",
      "----------------------------------------------------------------------\n"
     ]
    },
    {
     "name": "stderr",
     "output_type": "stream",
     "text": [
      " 38%|███▊      | 6/16 [00:05<00:09,  1.08it/s]"
     ]
    },
    {
     "name": "stdout",
     "output_type": "stream",
     "text": [
      "\n",
      "Clip: 38_5716_20170914202333.wav\n",
      "ASR: 南洋持续降雨水深路滑出行一定要注意而且刚回家的路上我差点被冲进下水道\n",
      "REF: 南阳持续降雨水深路滑出行一定要注意安全刚回家的路上我差点儿被冲进下水道\n",
      "WER: 1.0000  CER: 0.1143  Precision: 0.0000  Recall: 0.0000\n",
      "----------------------------------------------------------------------\n"
     ]
    },
    {
     "name": "stderr",
     "output_type": "stream",
     "text": [
      " 44%|████▍     | 7/16 [00:05<00:07,  1.28it/s]"
     ]
    },
    {
     "name": "stdout",
     "output_type": "stream",
     "text": [
      "\n",
      "Clip: 38_5716_20170914202341.wav\n",
      "ASR: 播放雪莉的歌曲\n",
      "REF: 播放雪莉的歌曲\n",
      "WER: 0.0000  CER: 0.0000  Precision: 1.0000  Recall: 1.0000\n",
      "----------------------------------------------------------------------\n"
     ]
    },
    {
     "name": "stderr",
     "output_type": "stream",
     "text": [
      " 50%|█████     | 8/16 [00:06<00:07,  1.11it/s]"
     ]
    },
    {
     "name": "stdout",
     "output_type": "stream",
     "text": [
      "\n",
      "Clip: 38_5716_20170914202408.wav\n",
      "ASR: 我想这出最好歌曲把歌词发到网上请别人帮我作曲集集\n",
      "REF: 我想这出最好歌曲把歌词发到网上请别人帮我作曲急急\n",
      "WER: 1.0000  CER: 0.0833  Precision: 0.0000  Recall: 0.0000\n",
      "----------------------------------------------------------------------\n"
     ]
    },
    {
     "name": "stderr",
     "output_type": "stream",
     "text": [
      " 56%|█████▋    | 9/16 [00:07<00:05,  1.22it/s]"
     ]
    },
    {
     "name": "stdout",
     "output_type": "stream",
     "text": [
      "\n",
      "Clip: 38_5716_20170914202417.wav\n",
      "ASR: 别说个大概其说具体是哪首歌\n",
      "REF: 别说个大概齐 说具体是哪首歌\n",
      "WER: 1.0000  CER: 0.1429  Precision: 0.0000  Recall: 0.0000\n",
      "----------------------------------------------------------------------\n"
     ]
    },
    {
     "name": "stderr",
     "output_type": "stream",
     "text": [
      " 62%|██████▎   | 10/16 [00:08<00:04,  1.27it/s]"
     ]
    },
    {
     "name": "stdout",
     "output_type": "stream",
     "text": [
      "\n",
      "Clip: 38_5716_20170914202426.wav\n",
      "ASR: 除了自命无凡和爱是一种幸福\n",
      "REF: 除了自命不凡和爱是一种幸福\n",
      "WER: 1.0000  CER: 0.0769  Precision: 0.0000  Recall: 0.0000\n",
      "----------------------------------------------------------------------\n"
     ]
    },
    {
     "name": "stderr",
     "output_type": "stream",
     "text": [
      " 69%|██████▉   | 11/16 [00:08<00:03,  1.44it/s]"
     ]
    },
    {
     "name": "stdout",
     "output_type": "stream",
     "text": [
      "\n",
      "Clip: 38_5716_20170914202435.wav\n",
      "ASR: 有点急 因为很喜欢他\n",
      "REF: 有点儿急哎嘿是因为很喜欢他啊\n",
      "WER: 2.0000  CER: 0.3571  Precision: 0.0000  Recall: 0.0000\n",
      "----------------------------------------------------------------------\n"
     ]
    },
    {
     "name": "stderr",
     "output_type": "stream",
     "text": [
      " 75%|███████▌  | 12/16 [00:09<00:02,  1.45it/s]"
     ]
    },
    {
     "name": "stdout",
     "output_type": "stream",
     "text": [
      "\n",
      "Clip: 38_5716_20170914202446.wav\n",
      "ASR: 听音乐不错 休闲哈稀\n",
      "REF: 听音乐不错休闲哈嘻\n",
      "WER: 2.0000  CER: 0.2222  Precision: 0.0000  Recall: 0.0000\n",
      "----------------------------------------------------------------------\n"
     ]
    },
    {
     "name": "stderr",
     "output_type": "stream",
     "text": [
      " 81%|████████▏ | 13/16 [00:09<00:01,  1.57it/s]"
     ]
    },
    {
     "name": "stdout",
     "output_type": "stream",
     "text": [
      "\n",
      "Clip: 38_5716_20170914202454.wav\n",
      "ASR: 来首南泉妈妈的歌\n",
      "REF: 来一首南拳妈妈的歌\n",
      "WER: 1.0000  CER: 0.2222  Precision: 0.0000  Recall: 0.0000\n",
      "----------------------------------------------------------------------\n"
     ]
    },
    {
     "name": "stderr",
     "output_type": "stream",
     "text": [
      " 88%|████████▊ | 14/16 [00:10<00:01,  1.79it/s]"
     ]
    },
    {
     "name": "stdout",
     "output_type": "stream",
     "text": [
      "\n",
      "Clip: 38_5716_20170914202531.wav\n",
      "ASR: 放一下好想你\n",
      "REF: 放一下好想你\n",
      "WER: 0.0000  CER: 0.0000  Precision: 1.0000  Recall: 1.0000\n",
      "----------------------------------------------------------------------\n"
     ]
    },
    {
     "name": "stderr",
     "output_type": "stream",
     "text": [
      " 94%|█████████▍| 15/16 [00:10<00:00,  2.09it/s]"
     ]
    },
    {
     "name": "stdout",
     "output_type": "stream",
     "text": [
      "\n",
      "Clip: 38_5716_20170914202537.wav\n",
      "ASR: 不热\n",
      "REF: 不热\n",
      "WER: 0.0000  CER: 0.0000  Precision: 1.0000  Recall: 1.0000\n",
      "----------------------------------------------------------------------\n"
     ]
    },
    {
     "name": "stderr",
     "output_type": "stream",
     "text": [
      "100%|██████████| 16/16 [00:10<00:00,  1.46it/s]\n"
     ]
    },
    {
     "name": "stdout",
     "output_type": "stream",
     "text": [
      "\n",
      "Clip: 38_5716_20170914202545.wav\n",
      "ASR: 播放自由行走的话\n",
      "REF: 播放自由行走的花\n",
      "WER: 1.0000  CER: 0.1250  Precision: 0.0000  Recall: 0.0000\n",
      "----------------------------------------------------------------------\n",
      "\n",
      "=== Processing language: pashto (prompt: pashto) | 16 clips ===\n"
     ]
    },
    {
     "name": "stderr",
     "output_type": "stream",
     "text": [
      "  6%|▋         | 1/16 [00:00<00:12,  1.23it/s]"
     ]
    },
    {
     "name": "stdout",
     "output_type": "stream",
     "text": [
      "\n",
      "Clip: common_voice_ps_41827239.mp3\n",
      "ASR: حدیعه علاق کمی پامشو\n",
      "REF: په دې حالت کې مې پام شو.\n",
      "WER: 1.0000  CER: 0.5833  Precision: 0.0000  Recall: 0.0000\n",
      "----------------------------------------------------------------------\n"
     ]
    },
    {
     "name": "stderr",
     "output_type": "stream",
     "text": [
      " 12%|█▎        | 2/16 [00:01<00:09,  1.46it/s]"
     ]
    },
    {
     "name": "stdout",
     "output_type": "stream",
     "text": [
      "\n",
      "Clip: common_voice_ps_40358420.mp3\n",
      "ASR: اخترم و مبارکش\n",
      "REF: اختر مو مبارک سه!\n",
      "WER: 1.0000  CER: 0.3529  Precision: 0.0000  Recall: 0.0000\n",
      "----------------------------------------------------------------------\n"
     ]
    },
    {
     "name": "stderr",
     "output_type": "stream",
     "text": [
      " 19%|█▉        | 3/16 [00:02<00:11,  1.16it/s]"
     ]
    },
    {
     "name": "stdout",
     "output_type": "stream",
     "text": [
      "\n",
      "Clip: common_voice_ps_42182197.mp3\n",
      "ASR: سویدو تارپ ملونو کده نه بخبرو که\n",
      "REF: د سړیتوب تعریف په عملونو کې دی، نه په خبرو کې.\n",
      "WER: 0.9091  CER: 0.4348  Precision: 0.1429  Recall: 0.0909\n",
      "----------------------------------------------------------------------\n"
     ]
    },
    {
     "name": "stderr",
     "output_type": "stream",
     "text": [
      " 25%|██▌       | 4/16 [00:04<00:14,  1.20s/it]"
     ]
    },
    {
     "name": "stdout",
     "output_type": "stream",
     "text": [
      "\n",
      "Clip: common_voice_ps_42443251.mp3\n",
      "ASR: دی شریر و عناصر و فعالیتون دی طولنی پر امنیت منفی اغیز کوی\n",
      "REF: د شریر عناصر فعالیتونه د ټولنې پر امنیت منفي اغېز کوي.\n",
      "WER: 0.8182  CER: 0.2407  Precision: 0.3077  Recall: 0.3636\n",
      "----------------------------------------------------------------------\n"
     ]
    },
    {
     "name": "stderr",
     "output_type": "stream",
     "text": [
      " 31%|███▏      | 5/16 [00:05<00:13,  1.24s/it]"
     ]
    },
    {
     "name": "stdout",
     "output_type": "stream",
     "text": [
      "\n",
      "Clip: common_voice_ps_40390233.mp3\n",
      "ASR: یو کس یا یو شیسرہ زون عدد قول پریش دئی؟\n",
      "REF: يو کس يا يو شې سره ځان عادت کول پريږدٸ.\n",
      "WER: 0.9000  CER: 0.4359  Precision: 0.1000  Recall: 0.1000\n",
      "----------------------------------------------------------------------\n"
     ]
    },
    {
     "name": "stderr",
     "output_type": "stream",
     "text": [
      " 38%|███▊      | 6/16 [00:06<00:12,  1.26s/it]"
     ]
    },
    {
     "name": "stdout",
     "output_type": "stream",
     "text": [
      "\n",
      "Clip: common_voice_ps_42439944.mp3\n",
      "ASR: تا یا او داد دا تیری دولا پارا چینه\n",
      "REF: • د یو درد د تېرېدو لپاره کښېنه.\n",
      "WER: 1.1250  CER: 0.5625  Precision: 0.0000  Recall: 0.0000\n",
      "----------------------------------------------------------------------\n"
     ]
    },
    {
     "name": "stderr",
     "output_type": "stream",
     "text": [
      " 44%|████▍     | 7/16 [00:08<00:13,  1.48s/it]"
     ]
    },
    {
     "name": "stdout",
     "output_type": "stream",
     "text": [
      "\n",
      "Clip: common_voice_ps_42091691.mp3\n",
      "ASR: زناور دا ساروی و دزمکی دا ایکو سیستم پا برخاکی مهم رول لو باوی.\n",
      "REF: ځناور د څارویو د ځمکې د اکوسیستم په برخه کې مهم رول لوبوي.\n",
      "WER: 0.9231  CER: 0.2931  Precision: 0.1429  Recall: 0.1538\n",
      "----------------------------------------------------------------------\n"
     ]
    },
    {
     "name": "stderr",
     "output_type": "stream",
     "text": [
      " 50%|█████     | 8/16 [00:09<00:09,  1.13s/it]"
     ]
    },
    {
     "name": "stdout",
     "output_type": "stream",
     "text": [
      "\n",
      "Clip: common_voice_ps_40296469.mp3\n",
      "ASR: موسیقی\n",
      "REF: که راحت غواړې زحمت درلره بويه.\n",
      "WER: 1.0000  CER: 0.9667  Precision: 0.0000  Recall: 0.0000\n",
      "----------------------------------------------------------------------\n"
     ]
    },
    {
     "name": "stderr",
     "output_type": "stream",
     "text": [
      " 56%|█████▋    | 9/16 [00:10<00:08,  1.24s/it]"
     ]
    },
    {
     "name": "stdout",
     "output_type": "stream",
     "text": [
      "\n",
      "Clip: common_voice_ps_41875133.mp3\n",
      "ASR: ارده مرسلام شاملو روم برسل دخانی مو لوک کڑیدی\n",
      "REF: د ادم علیه السلام زامنو لومړی ځل د غنمو لو کړی دی.\n",
      "WER: 1.0000  CER: 0.5000  Precision: 0.0000  Recall: 0.0000\n",
      "----------------------------------------------------------------------\n"
     ]
    },
    {
     "name": "stderr",
     "output_type": "stream",
     "text": [
      " 62%|██████▎   | 10/16 [00:11<00:07,  1.18s/it]"
     ]
    },
    {
     "name": "stdout",
     "output_type": "stream",
     "text": [
      "\n",
      "Clip: common_voice_ps_42436374.mp3\n",
      "ASR: پتنگ دست را پچا پیره و گردید\n",
      "REF: پتنګ د څراغ په چاپېره وګرځېد.\n",
      "WER: 1.1667  CER: 0.4828  Precision: 0.0000  Recall: 0.0000\n",
      "----------------------------------------------------------------------\n"
     ]
    },
    {
     "name": "stderr",
     "output_type": "stream",
     "text": [
      " 69%|██████▉   | 11/16 [00:12<00:05,  1.07s/it]"
     ]
    },
    {
     "name": "stdout",
     "output_type": "stream",
     "text": [
      "\n",
      "Clip: common_voice_ps_42441496.mp3\n",
      "ASR: سر انگور هم دیر محبوب دی\n",
      "REF: • سره انګور هم ډېر محبوب دي.\n",
      "WER: 0.7143  CER: 0.2857  Precision: 0.3333  Recall: 0.2857\n",
      "----------------------------------------------------------------------\n"
     ]
    },
    {
     "name": "stderr",
     "output_type": "stream",
     "text": [
      " 75%|███████▌  | 12/16 [00:14<00:05,  1.39s/it]"
     ]
    },
    {
     "name": "stdout",
     "output_type": "stream",
     "text": [
      "\n",
      "Clip: common_voice_ps_40390072.mp3\n",
      "ASR: ده هنرونو و ده میرسونو و ده پا مخانا نوی پرهنگی مرکز و پرانی ستلخو\n",
      "REF: د هنرونو او میراثونو د ودې په موخه نوی فرهنګي مرکز پرانیستل شو.\n",
      "WER: 0.9231  CER: 0.3810  Precision: 0.2000  Recall: 0.2308\n",
      "----------------------------------------------------------------------\n"
     ]
    },
    {
     "name": "stderr",
     "output_type": "stream",
     "text": [
      " 81%|████████▏ | 13/16 [00:15<00:03,  1.28s/it]"
     ]
    },
    {
     "name": "stdout",
     "output_type": "stream",
     "text": [
      "\n",
      "Clip: common_voice_ps_40481886.mp3\n",
      "ASR: غسا او خبکان روخ صحت لمنزوری\n",
      "REF: غوصه او خفګان روغ صحت له مینځه وړي\n",
      "WER: 0.7500  CER: 0.4118  Precision: 0.3333  Recall: 0.2500\n",
      "----------------------------------------------------------------------\n"
     ]
    },
    {
     "name": "stderr",
     "output_type": "stream",
     "text": [
      " 88%|████████▊ | 14/16 [00:16<00:02,  1.21s/it]"
     ]
    },
    {
     "name": "stdout",
     "output_type": "stream",
     "text": [
      "\n",
      "Clip: common_voice_ps_42461043.mp3\n",
      "ASR: زین درمل دا بکتریا زد خاصیت لری\n",
      "REF: ځینې درمل د بکتریا ضد خاصیت لري.\n",
      "WER: 0.5714  CER: 0.1875  Precision: 0.4286  Recall: 0.4286\n",
      "----------------------------------------------------------------------\n"
     ]
    },
    {
     "name": "stderr",
     "output_type": "stream",
     "text": [
      " 94%|█████████▍| 15/16 [00:17<00:01,  1.20s/it]"
     ]
    },
    {
     "name": "stdout",
     "output_type": "stream",
     "text": [
      "\n",
      "Clip: common_voice_ps_40893732.mp3\n",
      "ASR: اندر ناپلو روانیم تنی منسی ای خالق\n",
      "REF: د رڼا پر لور روان يم، ته مي مل سې اې خالقه!\n",
      "WER: 1.0000  CER: 0.5116  Precision: 0.0000  Recall: 0.0000\n",
      "----------------------------------------------------------------------\n"
     ]
    },
    {
     "name": "stderr",
     "output_type": "stream",
     "text": [
      "100%|██████████| 16/16 [00:18<00:00,  1.16s/it]\n"
     ]
    },
    {
     "name": "stdout",
     "output_type": "stream",
     "text": [
      "\n",
      "Clip: common_voice_ps_40298938.mp3\n",
      "ASR: ده شرطخه شروع خدا\n",
      "REF: د ى يې تر شير په ښور وا خوشحاله دى.\n",
      "WER: 1.0000  CER: 0.6857  Precision: 0.0000  Recall: 0.0000\n",
      "----------------------------------------------------------------------\n",
      "\n",
      "=== Processing language: urdu (prompt: urdu) | 16 clips ===\n"
     ]
    },
    {
     "name": "stderr",
     "output_type": "stream",
     "text": [
      "  6%|▋         | 1/16 [00:01<00:28,  1.90s/it]"
     ]
    },
    {
     "name": "stdout",
     "output_type": "stream",
     "text": [
      "\n",
      "Clip: common_voice_ur_38165827.mp3\n",
      "ASR: کہ انتخابی امیدواروں کو سیکیورٹی بریفنگز کے مطالق تسلیم کی گزشتہ\n",
      "REF: کے انتخاباتی امیدواروں کو سیکیورٹی بریفنگز کے متعلق تسنیم کی گذشتہ\n",
      "WER: 0.4545  CER: 0.1061  Precision: 0.5455  Recall: 0.5455\n",
      "----------------------------------------------------------------------\n"
     ]
    },
    {
     "name": "stderr",
     "output_type": "stream",
     "text": [
      " 12%|█▎        | 2/16 [00:02<00:16,  1.16s/it]"
     ]
    },
    {
     "name": "stdout",
     "output_type": "stream",
     "text": [
      "\n",
      "Clip: common_voice_ur_28976627.mp3\n",
      "ASR: یہی تناسب یوت کا بھی ہے\n",
      "REF: یہی تناسب \"یوتھ\" کا بھی ہے۔\n",
      "WER: 0.3333  CER: 0.1481  Precision: 0.6667  Recall: 0.6667\n",
      "----------------------------------------------------------------------\n"
     ]
    },
    {
     "name": "stderr",
     "output_type": "stream",
     "text": [
      " 19%|█▉        | 3/16 [00:03<00:15,  1.19s/it]"
     ]
    },
    {
     "name": "stdout",
     "output_type": "stream",
     "text": [
      "\n",
      "Clip: common_voice_ur_38190665.mp3\n",
      "ASR: عشق میں بیداد عشق کے غیر بیمارہ مچا\n",
      "REF: عشق میں بیدادِ رشکِ غیر نے مارا مجھے\n",
      "WER: 0.7500  CER: 0.3333  Precision: 0.3750  Recall: 0.3750\n",
      "----------------------------------------------------------------------\n"
     ]
    },
    {
     "name": "stderr",
     "output_type": "stream",
     "text": [
      " 25%|██▌       | 4/16 [00:04<00:12,  1.03s/it]"
     ]
    },
    {
     "name": "stdout",
     "output_type": "stream",
     "text": [
      "\n",
      "Clip: common_voice_ur_42003248.mp3\n",
      "ASR: میں اگر انخلاب کا مخالف ہوں\n",
      "REF: میں اگر انقلاب کا مخالف ہوں۔\n",
      "WER: 0.3333  CER: 0.0714  Precision: 0.6667  Recall: 0.6667\n",
      "----------------------------------------------------------------------\n"
     ]
    },
    {
     "name": "stderr",
     "output_type": "stream",
     "text": [
      " 31%|███▏      | 5/16 [00:05<00:10,  1.08it/s]"
     ]
    },
    {
     "name": "stdout",
     "output_type": "stream",
     "text": [
      "\n",
      "Clip: common_voice_ur_40393969.mp3\n",
      "ASR: کسی نے کچھ لکھا ہوگا\n",
      "REF: کسی نے کچھ لکھا ہوگا کسی نے کچھ لکھا ہوگا\n",
      "WER: 0.5000  CER: 0.5122  Precision: 1.0000  Recall: 0.5000\n",
      "----------------------------------------------------------------------\n"
     ]
    },
    {
     "name": "stderr",
     "output_type": "stream",
     "text": [
      " 38%|███▊      | 6/16 [00:06<00:09,  1.05it/s]"
     ]
    },
    {
     "name": "stdout",
     "output_type": "stream",
     "text": [
      "\n",
      "Clip: common_voice_ur_41192401.mp3\n",
      "ASR: جو دیکھتا گیا اس کا یقین ہونے لگا\n",
      "REF: جو دیکھتا گیا اُسکا یقین ہونے لگا\n",
      "WER: 0.2857  CER: 0.0606  Precision: 0.7500  Recall: 0.8571\n",
      "----------------------------------------------------------------------\n"
     ]
    },
    {
     "name": "stderr",
     "output_type": "stream",
     "text": [
      " 44%|████▍     | 7/16 [00:07<00:08,  1.00it/s]"
     ]
    },
    {
     "name": "stdout",
     "output_type": "stream",
     "text": [
      "\n",
      "Clip: common_voice_ur_35294301.mp3\n",
      "ASR: رکھیو یارب یہ در گنجینہ گوھر کھلا\n",
      "REF: رکھیو یا رب یہ در گنجینۂ گوہر کھلا\n",
      "WER: 0.5000  CER: 0.0882  Precision: 0.5714  Recall: 0.5000\n",
      "----------------------------------------------------------------------\n"
     ]
    },
    {
     "name": "stderr",
     "output_type": "stream",
     "text": [
      " 50%|█████     | 8/16 [00:08<00:07,  1.13it/s]"
     ]
    },
    {
     "name": "stdout",
     "output_type": "stream",
     "text": [
      "\n",
      "Clip: common_voice_ur_41183648.mp3\n",
      "ASR: میں پڑھا رہی ہوں\n",
      "REF: میں پڑھا رہی ہوں\n",
      "WER: 0.0000  CER: 0.0000  Precision: 1.0000  Recall: 1.0000\n",
      "----------------------------------------------------------------------\n"
     ]
    },
    {
     "name": "stderr",
     "output_type": "stream",
     "text": [
      " 56%|█████▋    | 9/16 [00:09<00:07,  1.02s/it]"
     ]
    },
    {
     "name": "stdout",
     "output_type": "stream",
     "text": [
      "\n",
      "Clip: common_voice_ur_40903841.mp3\n",
      "ASR: کوویڈ عراق ہوائی جہازوں میں کمی کا کام کر رہا ہے\n",
      "REF: کوویڈ عراق ہوائی جہازوں میں کمی کا کام کر رہا ہے\n",
      "WER: 0.0000  CER: 0.0000  Precision: 1.0000  Recall: 1.0000\n",
      "----------------------------------------------------------------------\n"
     ]
    },
    {
     "name": "stderr",
     "output_type": "stream",
     "text": [
      " 62%|██████▎   | 10/16 [00:10<00:05,  1.00it/s]"
     ]
    },
    {
     "name": "stdout",
     "output_type": "stream",
     "text": [
      "\n",
      "Clip: common_voice_ur_38378432.mp3\n",
      "ASR: صبح کرنا شام کا لانا ہے جوے شیر کا\n",
      "REF: صبح کرنا شام کا، لانا ہے جوئےشِیر کا\n",
      "WER: 0.3750  CER: 0.1111  Precision: 0.6667  Recall: 0.7500\n",
      "----------------------------------------------------------------------\n"
     ]
    },
    {
     "name": "stderr",
     "output_type": "stream",
     "text": [
      " 69%|██████▉   | 11/16 [00:11<00:05,  1.03s/it]"
     ]
    },
    {
     "name": "stdout",
     "output_type": "stream",
     "text": [
      "\n",
      "Clip: common_voice_ur_33450791.mp3\n",
      "ASR: اے عارضو اے شہید وفا خون بہان امان\n",
      "REF: اے آرزو شہیدِ وفا! خوں بہا نہ مانگ\n",
      "WER: 0.8750  CER: 0.3824  Precision: 0.1250  Recall: 0.1250\n",
      "----------------------------------------------------------------------\n"
     ]
    },
    {
     "name": "stderr",
     "output_type": "stream",
     "text": [
      " 75%|███████▌  | 12/16 [00:11<00:03,  1.18it/s]"
     ]
    },
    {
     "name": "stdout",
     "output_type": "stream",
     "text": [
      "\n",
      "Clip: common_voice_ur_41154202.mp3\n",
      "ASR: موسیقی\n",
      "REF: اپنا دل پیش کروں اپنی وفا پیش کروں\n",
      "WER: 1.0000  CER: 0.9118  Precision: 0.0000  Recall: 0.0000\n",
      "----------------------------------------------------------------------\n"
     ]
    },
    {
     "name": "stderr",
     "output_type": "stream",
     "text": [
      " 81%|████████▏ | 13/16 [00:12<00:02,  1.09it/s]"
     ]
    },
    {
     "name": "stdout",
     "output_type": "stream",
     "text": [
      "\n",
      "Clip: common_voice_ur_38228308.mp3\n",
      "ASR: دل میں ذوقِ وصل و یادِ یار تک باقی نہیں\n",
      "REF: دل میں ذوقِ وصل و یادِ یار تک باقی نہیں\n",
      "WER: 0.0000  CER: 0.0000  Precision: 1.0000  Recall: 1.0000\n",
      "----------------------------------------------------------------------\n"
     ]
    },
    {
     "name": "stderr",
     "output_type": "stream",
     "text": [
      " 88%|████████▊ | 14/16 [00:14<00:02,  1.05s/it]"
     ]
    },
    {
     "name": "stdout",
     "output_type": "stream",
     "text": [
      "\n",
      "Clip: common_voice_ur_40988989.mp3\n",
      "ASR: جرمنی میں ابھی بھی داکھ کا نظام استعمال کیا جاتا ہے\n",
      "REF: جرمنی میں ابھی بھی ڈاک کا نظام استعمال کیا جاتا ہے\n",
      "WER: 0.0909  CER: 0.0400  Precision: 0.9091  Recall: 0.9091\n",
      "----------------------------------------------------------------------\n"
     ]
    },
    {
     "name": "stderr",
     "output_type": "stream",
     "text": [
      " 94%|█████████▍| 15/16 [00:15<00:01,  1.01s/it]"
     ]
    },
    {
     "name": "stdout",
     "output_type": "stream",
     "text": [
      "\n",
      "Clip: common_voice_ur_41175465.mp3\n",
      "ASR: واسی کی کانوں کو بھلی لگتی ہو\n",
      "REF: موسیقی کانوں کو بھلی لگتی ہو۔\n",
      "WER: 0.5000  CER: 0.1724  Precision: 0.5714  Recall: 0.6667\n",
      "----------------------------------------------------------------------\n"
     ]
    },
    {
     "name": "stderr",
     "output_type": "stream",
     "text": [
      "100%|██████████| 16/16 [00:16<00:00,  1.03s/it]"
     ]
    },
    {
     "name": "stdout",
     "output_type": "stream",
     "text": [
      "\n",
      "Clip: common_voice_ur_41103986.mp3\n",
      "ASR: بولی وڈ بلن کے بوتے ہیرو بننے کے لیے تیار\n",
      "REF: بولی وڈ ولن کے پوتے ہیرو بننے کے لیے تیار\n",
      "WER: 0.2000  CER: 0.0488  Precision: 0.8000  Recall: 0.8000\n",
      "----------------------------------------------------------------------\n"
     ]
    },
    {
     "name": "stderr",
     "output_type": "stream",
     "text": [
      "\n"
     ]
    },
    {
     "data": {
      "text/plain": [
       "48"
      ]
     },
     "execution_count": 4,
     "metadata": {},
     "output_type": "execute_result"
    }
   ],
   "source": [
    "all_results: List[Dict[str, Any]] = []\n",
    "\n",
    "for lf in LANG_FOLDERS:\n",
    "    lang_dir = root / lf\n",
    "    if not lang_dir.exists():\n",
    "        print(f\"[WARN] Language folder missing: {lang_dir} (skipping)\")\n",
    "        continue\n",
    "    prompt = LANG_PROMPT.get(lf, lf)\n",
    "    res = evaluate_language_folder(\n",
    "        lang_folder=lang_dir,\n",
    "        language_prompt=prompt,\n",
    "        processor=processor,\n",
    "        model=model,\n",
    "        device=device,\n",
    "        clips_subdir=CLIPS_SUBDIR,\n",
    "    )\n",
    "    all_results.extend(res)\n",
    "\n",
    "len(all_results)\n"
   ]
  },
  {
   "cell_type": "code",
   "execution_count": 5,
   "id": "b54f008e",
   "metadata": {},
   "outputs": [
    {
     "name": "stdout",
     "output_type": "stream",
     "text": [
      "Saved per-clip results to: C:\\Users\\manmo\\OneDrive\\Desktop\\Cup demo dataset\\whisper_large_v3_eval.tsv\n",
      "\n",
      "===== OVERALL (chinese) =====\n",
      "Clips: 16\n",
      "WER: 0.8235\n",
      "CER: 0.1206\n",
      "Precision: 0.2778\n",
      "Recall: 0.2941\n",
      "============================\n",
      "\n",
      "===== OVERALL (pashto) =====\n",
      "Clips: 16\n",
      "WER: 0.9241\n",
      "CER: 0.4414\n",
      "Precision: 0.1475\n",
      "Recall: 0.1241\n",
      "============================\n",
      "\n",
      "===== OVERALL (urdu) =====\n",
      "Clips: 16\n",
      "WER: 0.3788\n",
      "CER: 0.1824\n",
      "Precision: 0.7049\n",
      "Recall: 0.6515\n",
      "============================\n",
      "\n",
      "========== GLOBAL OVERALL (all languages) ==========\n",
      "Clips: 48\n",
      "Overall WER: 0.6735\n",
      "Overall CER: 0.2868\n",
      "Overall Precision: 0.4160\n",
      "Overall Recall: 0.3707\n",
      "====================================================\n",
      "\n",
      "Saved per-language summary to: C:\\Users\\manmo\\OneDrive\\Desktop\\Cup demo dataset\\whisper_large_v3_language_summary.tsv\n"
     ]
    },
    {
     "data": {
      "application/vnd.microsoft.datawrangler.viewer.v0+json": {
       "columns": [
        {
         "name": "index",
         "rawType": "int64",
         "type": "integer"
        },
        {
         "name": "language",
         "rawType": "object",
         "type": "string"
        },
        {
         "name": "clips",
         "rawType": "int64",
         "type": "integer"
        },
        {
         "name": "overall_wer",
         "rawType": "float64",
         "type": "float"
        },
        {
         "name": "overall_cer",
         "rawType": "float64",
         "type": "float"
        },
        {
         "name": "overall_precision",
         "rawType": "float64",
         "type": "float"
        },
        {
         "name": "overall_recall",
         "rawType": "float64",
         "type": "float"
        }
       ],
       "ref": "d7986d05-4f14-494e-b073-c659fb95a89d",
       "rows": [
        [
         "0",
         "chinese",
         "16",
         "0.8235294117647058",
         "0.12060301507537688",
         "0.2777777777777778",
         "0.29411764705882354"
        ],
        [
         "1",
         "pashto",
         "16",
         "0.9241379310344827",
         "0.44136807817589574",
         "0.14754098360655737",
         "0.12413793103448276"
        ],
        [
         "2",
         "urdu",
         "16",
         "0.3787878787878788",
         "0.18243243243243243",
         "0.7049180327868853",
         "0.6515151515151515"
        ]
       ],
       "shape": {
        "columns": 6,
        "rows": 3
       }
      },
      "text/html": [
       "<div>\n",
       "<style scoped>\n",
       "    .dataframe tbody tr th:only-of-type {\n",
       "        vertical-align: middle;\n",
       "    }\n",
       "\n",
       "    .dataframe tbody tr th {\n",
       "        vertical-align: top;\n",
       "    }\n",
       "\n",
       "    .dataframe thead th {\n",
       "        text-align: right;\n",
       "    }\n",
       "</style>\n",
       "<table border=\"1\" class=\"dataframe\">\n",
       "  <thead>\n",
       "    <tr style=\"text-align: right;\">\n",
       "      <th></th>\n",
       "      <th>language</th>\n",
       "      <th>clips</th>\n",
       "      <th>overall_wer</th>\n",
       "      <th>overall_cer</th>\n",
       "      <th>overall_precision</th>\n",
       "      <th>overall_recall</th>\n",
       "    </tr>\n",
       "  </thead>\n",
       "  <tbody>\n",
       "    <tr>\n",
       "      <th>0</th>\n",
       "      <td>chinese</td>\n",
       "      <td>16</td>\n",
       "      <td>0.823529</td>\n",
       "      <td>0.120603</td>\n",
       "      <td>0.277778</td>\n",
       "      <td>0.294118</td>\n",
       "    </tr>\n",
       "    <tr>\n",
       "      <th>1</th>\n",
       "      <td>pashto</td>\n",
       "      <td>16</td>\n",
       "      <td>0.924138</td>\n",
       "      <td>0.441368</td>\n",
       "      <td>0.147541</td>\n",
       "      <td>0.124138</td>\n",
       "    </tr>\n",
       "    <tr>\n",
       "      <th>2</th>\n",
       "      <td>urdu</td>\n",
       "      <td>16</td>\n",
       "      <td>0.378788</td>\n",
       "      <td>0.182432</td>\n",
       "      <td>0.704918</td>\n",
       "      <td>0.651515</td>\n",
       "    </tr>\n",
       "  </tbody>\n",
       "</table>\n",
       "</div>"
      ],
      "text/plain": [
       "  language  clips  overall_wer  overall_cer  overall_precision  overall_recall\n",
       "0  chinese     16     0.823529     0.120603           0.277778        0.294118\n",
       "1   pashto     16     0.924138     0.441368           0.147541        0.124138\n",
       "2     urdu     16     0.378788     0.182432           0.704918        0.651515"
      ]
     },
     "execution_count": 5,
     "metadata": {},
     "output_type": "execute_result"
    }
   ],
   "source": [
    "import pandas as pd\n",
    "import math\n",
    "\n",
    "# Per-clip TSV\n",
    "results_df = pd.DataFrame(all_results)\n",
    "Path(OUTPUT_TSV).parent.mkdir(parents=True, exist_ok=True)\n",
    "results_df.to_csv(OUTPUT_TSV, index=False, sep=\"\\t\", encoding=\"utf-8\")\n",
    "print(f\"Saved per-clip results to: {OUTPUT_TSV}\")\n",
    "\n",
    "# Per-language overall summaries\n",
    "lang_summaries = []\n",
    "for lang, grp in results_df.groupby(\"language\"):\n",
    "    grp_valid = grp.dropna(subset=[\"wer\", \"cer\", \"precision\", \"recall\"])\n",
    "    if len(grp_valid) == 0:\n",
    "        print(f\"\\n[SUMMARY] {lang}: no valid rows.\")\n",
    "        lang_summaries.append(\n",
    "            {\n",
    "                \"language\": lang,\n",
    "                \"clips\": 0,\n",
    "                \"overall_wer\": float(\"nan\"),\n",
    "                \"overall_cer\": float(\"nan\"),\n",
    "                \"overall_precision\": float(\"nan\"),\n",
    "                \"overall_recall\": float(\"nan\"),\n",
    "            }\n",
    "        )\n",
    "        continue\n",
    "\n",
    "    refs = grp_valid[\"reference\"].tolist()\n",
    "    hyps = grp_valid[\"hypothesis\"].tolist()\n",
    "\n",
    "    # Global metrics per language: sum alignment counts over utterances (jiwer v4)\n",
    "    lang_word = overall_word_metrics(refs, hyps)\n",
    "    lang_cer = overall_char_cer(refs, hyps)\n",
    "\n",
    "    print(f\"\\n===== OVERALL ({lang}) =====\")\n",
    "    print(f\"Clips: {len(grp_valid)}\")\n",
    "    print(f\"WER: {lang_word['wer']:.4f}\")\n",
    "    print(f\"CER: {lang_cer:.4f}\")\n",
    "    print(f\"Precision: {lang_word['precision']:.4f}\")\n",
    "    print(f\"Recall: {lang_word['recall']:.4f}\")\n",
    "    print(\"============================\")\n",
    "\n",
    "    lang_summaries.append(\n",
    "        {\n",
    "            \"language\": lang,\n",
    "            \"clips\": len(grp_valid),\n",
    "            \"overall_wer\": lang_word[\"wer\"],\n",
    "            \"overall_cer\": lang_cer,\n",
    "            \"overall_precision\": lang_word[\"precision\"],\n",
    "            \"overall_recall\": lang_word[\"recall\"],\n",
    "        }\n",
    "    )\n",
    "\n",
    "# Global overall (all languages together)\n",
    "valid_all = results_df.dropna(subset=[\"wer\", \"cer\", \"precision\", \"recall\"])\n",
    "if len(valid_all) > 0:\n",
    "    refs_all = valid_all[\"reference\"].tolist()\n",
    "    hyps_all = valid_all[\"hypothesis\"].tolist()\n",
    "\n",
    "    glob_word = overall_word_metrics(refs_all, hyps_all)\n",
    "    glob_cer = overall_char_cer(refs_all, hyps_all)\n",
    "\n",
    "    print(\"\\n========== GLOBAL OVERALL (all languages) ==========\")\n",
    "    print(f\"Clips: {len(valid_all)}\")\n",
    "    print(f\"Overall WER: {glob_word['wer']:.4f}\")\n",
    "    print(f\"Overall CER: {glob_cer:.4f}\")\n",
    "    print(f\"Overall Precision: {glob_word['precision']:.4f}\")\n",
    "    print(f\"Overall Recall: {glob_word['recall']:.4f}\")\n",
    "    print(\"====================================================\\n\")\n",
    "else:\n",
    "    glob_word = {\"wer\": float(\"nan\"), \"precision\": float(\"nan\"), \"recall\": float(\"nan\")}\n",
    "    glob_cer = float(\"nan\")\n",
    "    print(\"\\nNo valid results to compute GLOBAL overall metrics.\\n\")\n",
    "\n",
    "# Save per-language summary TSV\n",
    "lang_sum_df = pd.DataFrame(lang_summaries).sort_values(\"language\")\n",
    "lang_sum_df.to_csv(LANG_SUM_TSV, index=False, sep=\"\\t\", encoding=\"utf-8\")\n",
    "print(f\"Saved per-language summary to: {LANG_SUM_TSV}\")\n",
    "\n",
    "# Show summaries in notebook\n",
    "lang_sum_df\n"
   ]
  },
  {
   "cell_type": "code",
   "execution_count": null,
   "id": "6631d74d",
   "metadata": {},
   "outputs": [],
   "source": []
  }
 ],
 "metadata": {
  "kernelspec": {
   "display_name": "demo",
   "language": "python",
   "name": "python3"
  },
  "language_info": {
   "codemirror_mode": {
    "name": "ipython",
    "version": 3
   },
   "file_extension": ".py",
   "mimetype": "text/x-python",
   "name": "python",
   "nbconvert_exporter": "python",
   "pygments_lexer": "ipython3",
   "version": "3.12.3"
  }
 },
 "nbformat": 4,
 "nbformat_minor": 5
}
